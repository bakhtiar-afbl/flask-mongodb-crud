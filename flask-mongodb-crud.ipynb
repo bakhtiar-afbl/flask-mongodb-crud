{
 "cells": [
  {
   "cell_type": "code",
   "execution_count": null,
   "metadata": {},
   "outputs": [],
   "source": [
    "from flask import Flask, render_template, request, redirect, url_for\n",
    "from flask_pymongo import PyMongo\n",
    "\n",
    "app = Flask(__name__, template_folder='C:\\\\Users\\\\ABC\\\\newfolder')\n",
    "app.config[\"MONGO_URI\"] = \"mongodb://localhost:27017/myDatabase\"\n",
    "mongo = PyMongo(app)\n",
    "\n",
    "@app.route('/')\n",
    "def index():\n",
    "    students = list(mongo.db.students.find())\n",
    "    return render_template('index.html', students=students)\n",
    "\n",
    "@app.route('/add', methods=['POST'])\n",
    "def add():\n",
    "    student = request.form.get('student')\n",
    "    mongo.db.students.insert_one({'name': student})\n",
    "    return redirect(url_for('index'))\n",
    "\n",
    "@app.route('/update', methods=['POST'])\n",
    "def update():\n",
    "    old_student = request.form.get('old_student')\n",
    "    new_student = request.form.get('new_student')\n",
    "    mongo.db.students.find_one_and_update({'name': old_student}, {'$set': {'name': new_student}})\n",
    "    return redirect(url_for('index'))\n",
    "\n",
    "@app.route('/delete', methods=['POST'])\n",
    "def delete():\n",
    "    student = request.form.get('student')\n",
    "    mongo.db.students.delete_one({'name': student})\n",
    "    return redirect(url_for('index'))\n",
    "\n",
    "if __name__ == '__main__':\n",
    "    app.run(debug=True, use_reloader=False)\n"
   ]
  }
 ],
 "metadata": {
  "language_info": {
   "name": "python"
  }
 },
 "nbformat": 4,
 "nbformat_minor": 2
}
